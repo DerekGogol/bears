{
 "cells": [
  {
   "cell_type": "code",
   "execution_count": null,
   "metadata": {
    "collapsed": false,
    "gradient": {
     "editing": false,
     "source_hidden": false
    }
   },
   "outputs": [
    {
     "data": {
      "application/vnd.jupyter.widget-view+json": {
       "model_id": "fe7318f1cb1e41ef8257b6e0cd78a6c3",
       "version_major": 2,
       "version_minor": 0
      },
      "text/plain": [
       "VBox(children=(Label(value='Select your bear!'), FileUpload(value={}, description='Upload'), Output(), Label(v…"
      ]
     },
     "metadata": {},
     "output_type": "display_data",
     "transient": {}
    }
   ],
   "source": [
    "from fastai.vision.all import *\r\n",
    "from fastai.vision.widgets import *\r\n",
    "\r\n",
    "path = Path()\r\n",
    "learn_inf = load_learner(path/'export.pkl', cpu=True)\r\n",
    "btn_upload = widgets.FileUpload()\r\n",
    "out_pl = widgets.Output()\r\n",
    "lbl_pred = widgets.Label()\r\n",
    "\r\n",
    "\r\n",
    "def on_data_change(change):\r\n",
    "    lbl_pred.value = ''\r\n",
    "    img = PILImage.create(btn_upload.data[-1])\r\n",
    "    out_pl.clear_output()\r\n",
    "    with out_pl: display(img.to_thumb(128,128))\r\n",
    "    pred,pred_idx,probs = learn_inf.predict(img)\r\n",
    "    lbl_pred.value = f'Prediction: {pred}; Probability: {probs[pred_idx]:.04f}'\r\n",
    "\r\n",
    "btn_upload.observe(on_data_change, names=['data'])\r\n",
    "\r\n",
    "display(VBox([widgets.Label('Select your bear!'), btn_upload, out_pl, lbl_pred]))"
   ]
  }
 ],
 "metadata": {},
 "nbformat": 4,
 "nbformat_minor": 4
}
